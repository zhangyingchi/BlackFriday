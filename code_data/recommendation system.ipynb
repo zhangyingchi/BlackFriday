{
 "cells": [
  {
   "cell_type": "code",
   "execution_count": 1,
   "metadata": {},
   "outputs": [],
   "source": [
    "import numpy as np\n",
    "import pandas as pd"
   ]
  },
  {
   "cell_type": "markdown",
   "metadata": {},
   "source": [
    "## Step1 data visulization"
   ]
  },
  {
   "cell_type": "code",
   "execution_count": 2,
   "metadata": {},
   "outputs": [],
   "source": [
    "from sklearn import preprocessing"
   ]
  },
  {
   "cell_type": "code",
   "execution_count": 3,
   "metadata": {},
   "outputs": [],
   "source": [
    "Black_Friday = pd.read_csv('BlackFriday.csv')"
   ]
  },
  {
   "cell_type": "code",
   "execution_count": 4,
   "metadata": {},
   "outputs": [],
   "source": [
    "import matplotlib.pyplot as plt"
   ]
  },
  {
   "cell_type": "code",
   "execution_count": 475,
   "metadata": {},
   "outputs": [
    {
     "data": {
      "image/png": "[encoded data removed]",
      "text/plain": [
       "<Figure size 720x360 with 1 Axes>"
      ]
     },
     "metadata": {},
     "output_type": "display_data"
    }
   ],
   "source": [
    "plt.figure(figsize = (10,5))\n",
    "plt.hist(Black_Friday['Purchase'],\n",
    "         bins = 1000)\n",
    "sns.set()\n",
    "plt.show()"
   ]
  },
  {
   "cell_type": "code",
   "execution_count": 5,
   "metadata": {},
   "outputs": [],
   "source": [
    "Black_Friday['Rating'] = Black_Friday['Purchase']//5000"
   ]
  },
  {
   "cell_type": "markdown",
   "metadata": {},
   "source": [
    "## Step2 model definition"
   ]
  },
  {
   "cell_type": "code",
   "execution_count": 6,
   "metadata": {},
   "outputs": [],
   "source": [
    "def r_prediction(mu, b_U, b_I, p, q):\n",
    "    prediction = mu + b_U[:,np.newaxis] + b_I[np.newaxis,:] + np.dot(p, q.T)\n",
    "    return prediction"
   ]
  },
  {
   "cell_type": "markdown",
   "metadata": {},
   "source": [
    "## Step 3&4 data preprocessing"
   ]
  },
  {
   "cell_type": "code",
   "execution_count": 7,
   "metadata": {},
   "outputs": [],
   "source": [
    "from sklearn.model_selection import train_test_split"
   ]
  },
  {
   "cell_type": "code",
   "execution_count": 8,
   "metadata": {},
   "outputs": [],
   "source": [
    "ratings = Black_Friday[['User_ID','Product_ID','Rating']]\n",
    "User =  Black_Friday['User_ID'].unique()\n",
    "Product =  Black_Friday['Product_ID'].unique()"
   ]
  },
  {
   "cell_type": "code",
   "execution_count": 9,
   "metadata": {},
   "outputs": [
    {
     "name": "stderr",
     "output_type": "stream",
     "text": [
      "C:\\Users\\wsyou\\Anaconda3\\lib\\site-packages\\ipykernel_launcher.py:2: SettingWithCopyWarning: \n",
      "A value is trying to be set on a copy of a slice from a DataFrame.\n",
      "Try using .loc[row_indexer,col_indexer] = value instead\n",
      "\n",
      "See the caveats in the documentation: http://pandas.pydata.org/pandas-docs/stable/indexing.html#indexing-view-versus-copy\n",
      "  \n",
      "C:\\Users\\wsyou\\Anaconda3\\lib\\site-packages\\ipykernel_launcher.py:6: SettingWithCopyWarning: \n",
      "A value is trying to be set on a copy of a slice from a DataFrame.\n",
      "Try using .loc[row_indexer,col_indexer] = value instead\n",
      "\n",
      "See the caveats in the documentation: http://pandas.pydata.org/pandas-docs/stable/indexing.html#indexing-view-versus-copy\n",
      "  \n"
     ]
    }
   ],
   "source": [
    "le = preprocessing.LabelEncoder()\n",
    "ratings['User_ID'] = le.fit_transform(ratings['User_ID'])\n",
    "User = np.sort(le.transform(User))\n",
    "\n",
    "le = preprocessing.LabelEncoder()\n",
    "ratings['Product_ID'] = le.fit_transform(ratings['Product_ID'])\n",
    "Product = np.sort(le.transform(Product))"
   ]
  },
  {
   "cell_type": "code",
   "execution_count": 10,
   "metadata": {},
   "outputs": [],
   "source": [
    "ratings_train, ratings_test = train_test_split(ratings,test_size=0.2)\n",
    "ratings_train, ratings_validation = train_test_split(ratings_train,test_size=0.2)"
   ]
  },
  {
   "cell_type": "code",
   "execution_count": 148,
   "metadata": {},
   "outputs": [
    {
     "data": {
      "text/plain": [
       "851751.5494822611"
      ]
     },
     "execution_count": 148,
     "metadata": {},
     "output_type": "execute_result"
    }
   ],
   "source": [
    "Black_Friday['Purchase'].sum()/U"
   ]
  },
  {
   "cell_type": "code",
   "execution_count": 150,
   "metadata": {},
   "outputs": [
    {
     "data": {
      "text/plain": [
       "3623"
      ]
     },
     "execution_count": 150,
     "metadata": {},
     "output_type": "execute_result"
    }
   ],
   "source": [
    "I"
   ]
  },
  {
   "cell_type": "markdown",
   "metadata": {},
   "source": [
    "## Step5 initial parameters"
   ]
  },
  {
   "cell_type": "code",
   "execution_count": 11,
   "metadata": {},
   "outputs": [],
   "source": [
    "U = len(User)\n",
    "I = len(Product)"
   ]
  },
  {
   "cell_type": "code",
   "execution_count": 12,
   "metadata": {},
   "outputs": [],
   "source": [
    "def initial_parameters(U,I,F):\n",
    "    b_U_0 = np.random.normal(0,1e-4,U)\n",
    "    b_I_0 = np.random.normal(0,1e-4,I)\n",
    "    p_0 = np.random.normal(0,1/max(1,F**(1/2)),(U,F))\n",
    "    q_0 = np.random.normal(0,1/max(1,F**(1/2)),(I,F))\n",
    "    return b_U_0, b_I_0, p_0, q_0"
   ]
  },
  {
   "cell_type": "markdown",
   "metadata": {},
   "source": [
    "## Step6 Loss function, gradient function and SGD function"
   ]
  },
  {
   "cell_type": "code",
   "execution_count": 13,
   "metadata": {},
   "outputs": [],
   "source": [
    "def Loss(b_U,b_I,p,q,R):\n",
    "    N = len(R)\n",
    "    r_pre = mu + b_U[R['User_ID']] + b_I[R['Product_ID']] + np.sum(p[R['User_ID']]*q[R['Product_ID']],axis=1)\n",
    "    loss = sum((r_pre-R['Rating'])**2)/N\n",
    "    penalty = lambda_p/2*np.sum(p**2)*np.sum(q**2)/N\n",
    "    return loss+penalty"
   ]
  },
  {
   "cell_type": "code",
   "execution_count": 15,
   "metadata": {},
   "outputs": [],
   "source": [
    "def Gradient(b_U,b_I,p,q,R):\n",
    "    N = len(R)\n",
    "    R_temp = R\n",
    "    r_pre = mu + b_U[R['User_ID']] + b_I[R['Product_ID']] + np.sum(p[R['User_ID']]*q[R['Product_ID']],axis=1)\n",
    "    delta = R['Rating'] - r_pre\n",
    "    R_temp['delta'] = delta\n",
    "\n",
    "    #R_temp['q*r'] = q[R['MovieID']]*delta[:,np.newaxis]\n",
    "    R_qr = pd.DataFrame(q[R['Product_ID']]*delta[:,np.newaxis],index=R['User_ID'])\n",
    "    #R_temp['p*r'] = p[R['UserID']]*delta[:,np.newaxis]\n",
    "    R_pr = pd.DataFrame(p[R['User_ID']]*delta[:,np.newaxis],index=R['Product_ID'])\n",
    "    \n",
    "    U_dict = R_temp.groupby('User_ID')['delta'].sum().to_dict()\n",
    "    I_dict = R_temp.groupby('Product_ID')['delta'].sum().to_dict()\n",
    "    \n",
    "    qr = R_qr.groupby('User_ID').sum()\n",
    "    pr = R_pr.groupby('Product_ID').sum()\n",
    "    \n",
    "    for i in range(len(b_U)):\n",
    "        if i not in U_dict:\n",
    "            U_dict[i] = 0\n",
    "            qr.loc[i] = np.zeros(F)\n",
    "    for i in range(len(b_I)):\n",
    "        if i not in I_dict:\n",
    "            I_dict[i] = 0\n",
    "            pr.loc[i] = np.zeros(F)\n",
    "            \n",
    "    qr.sort_index(inplace = True)\n",
    "    pr.sort_index(inplace = True)\n",
    "            \n",
    "    delta_b_U = -2/N*np.array(list(U_dict.values()))\n",
    "    delta_b_I = -2/N*np.array(list(I_dict.values()))\n",
    "    delta_p = -2/N*np.reshape(np.array(qr),(-1,F)) + lambda_p*p/N\n",
    "    delta_q = -2/N*np.reshape(np.array(pr),(-1,F)) + lambda_p*q/N\n",
    "    \n",
    "    return delta_b_U, delta_b_I, delta_p, delta_q"
   ]
  },
  {
   "cell_type": "code",
   "execution_count": 16,
   "metadata": {},
   "outputs": [],
   "source": [
    "def StochasticGradientDescent(b_U,b_I,p,q,Ratings,learning_rate=1e-4,tol=1e-7,max_iter=20,batch_size=500000):\n",
    "    import warnings\n",
    "    warnings.filterwarnings(\"ignore\")\n",
    "    N = Ratings.shape[0]\n",
    "    for e in range(max_iter):\n",
    "        print(e)\n",
    "#         if (e%(max_iter//10)==0):\n",
    "#             print('...' + str(e) + 'Loss:' + str(L))\n",
    "        perm=np.random.permutation(N)\n",
    "        for i in range(0,N,batch_size):\n",
    "            R = Ratings.iloc[perm[i:i+batch_size]]\n",
    "            delta_b_U, delta_b_I, delta_p, delta_q = Gradient(b_U,b_I,p,q,R)\n",
    "            b_U = -1*learning_rate*delta_b_U + b_U\n",
    "            b_I = -1*learning_rate*delta_b_I + b_I\n",
    "            p = -1*learning_rate*delta_p + p\n",
    "            q = -1*learning_rate*delta_q + q\n",
    "        L = Loss(b_U,b_I,p,q,Ratings)\n",
    "        if L < tol:\n",
    "            break\n",
    "    return b_U,b_I,p,q"
   ]
  },
  {
   "cell_type": "code",
   "execution_count": 48,
   "metadata": {},
   "outputs": [],
   "source": [
    "def NewStochasticGradientDescent(b_U,b_I,p,q,Ratings,learning_rate=1e-4,tol=1e-7,max_iter=1,batch_size=100000):\n",
    "    b_U_,b_I_,p_,q_ = b_U.copy(),b_I.copy(),p.copy(),q.copy()\n",
    "    import warnings\n",
    "    warnings.filterwarnings(\"ignore\")\n",
    "    N = Ratings.shape[0]\n",
    "    for e in range(max_iter):\n",
    "        print(e)\n",
    "#         if (e%(max_iter//10)==0):\n",
    "#             print('...' + str(e) + 'Loss:' + str(L))\n",
    "        perm=np.random.permutation(N)\n",
    "        for batch in range(0,N,batch_size):\n",
    "            print('batch')\n",
    "            R = Ratings.iloc[perm[batch:batch+batch_size]]\n",
    "            for index, r in R.iterrows():\n",
    "                u = int(r['User_ID'])\n",
    "                i = int(r['Product_ID'])\n",
    "                r_pre = mu + b_U[u] + b_I[i] + np.sum(p[u]*q[i])\n",
    "                delta = r['Rating'] - r_pre\n",
    "                delta_b_U = -2 * delta\n",
    "                delta_b_I = -2 * delta\n",
    "                delta_p = -2 * q[i] * delta + lambda_p * p[u]\n",
    "                delta_q = -2 * p[u] * delta + lambda_p * q[i]\n",
    "\n",
    "                b_U_[u] = -1*learning_rate*delta_b_U + b_U[u]\n",
    "                b_I_[i] = -1*learning_rate*delta_b_I + b_I[i]\n",
    "                p_[u] = -1*learning_rate*delta_p + p[u]\n",
    "                q_[i] = -1*learning_rate*delta_q + q[i]\n",
    "#         L = Loss(b_U,b_I,p,q,Ratings)\n",
    "#         if L < tol:\n",
    "#             break\n",
    "    return b_U_,b_I_,p_,q_"
   ]
  },
  {
   "cell_type": "code",
   "execution_count": 103,
   "metadata": {},
   "outputs": [],
   "source": [
    "def Loss_NewStochasticGradientDescent(b_U,b_I,p,q,Ratings,learning_rate=1e-4,tol=1e-7,max_iter=1,batch_size=100000):\n",
    "    Loss_list = []\n",
    "    b_U_,b_I_,p_,q_ = b_U.copy(),b_I.copy(),p.copy(),q.copy()\n",
    "    import warnings\n",
    "    warnings.filterwarnings(\"ignore\")\n",
    "    N = Ratings.shape[0]\n",
    "    for e in range(max_iter):\n",
    "        print(e)\n",
    "#         if (e%(max_iter//10)==0):\n",
    "#             print('...' + str(e) + 'Loss:' + str(L))\n",
    "        perm=np.random.permutation(N)\n",
    "        for batch in range(0,N,batch_size):\n",
    "            #print('batch')\n",
    "            R = Ratings.iloc[perm[batch:batch+batch_size]]\n",
    "            for index, r in R.iterrows():\n",
    "                u = int(r['User_ID'])\n",
    "                i = int(r['Product_ID'])\n",
    "                r_pre = mu + b_U[u] + b_I[i] + np.sum(p[u]*q[i])\n",
    "                delta = r['Rating'] - r_pre\n",
    "                delta_b_U = -2 * delta\n",
    "                delta_b_I = -2 * delta\n",
    "                delta_p = -2 * q[i] * delta + lambda_p * p[u]\n",
    "                delta_q = -2 * p[u] * delta + lambda_p * q[i]\n",
    "\n",
    "                b_U_[u] = -1*learning_rate*delta_b_U + b_U[u]\n",
    "                b_I_[i] = -1*learning_rate*delta_b_I + b_I[i]\n",
    "                p_[u] = -1*learning_rate*delta_p + p[u]\n",
    "                q_[i] = -1*learning_rate*delta_q + q[i]\n",
    "            Loss_list.append(MSE(b_U_,b_I_,p_,q_,Ratings))\n",
    "            if len(Loss_list) > 100:\n",
    "                break\n",
    "   \n",
    "\n",
    "    return Loss_list"
   ]
  },
  {
   "cell_type": "code",
   "execution_count": 24,
   "metadata": {},
   "outputs": [],
   "source": [
    "def MSE(b_U,b_I,p,q,R):\n",
    "    N = len(R)\n",
    "    r_pre = mu + b_U[R['User_ID']] + b_I[R['Product_ID']] + np.sum(p[R['User_ID']]*q[R['Product_ID']],axis=1)\n",
    "    mse = sum((r_pre-R['Rating'])**2)/N\n",
    "    return mse"
   ]
  },
  {
   "cell_type": "code",
   "execution_count": 25,
   "metadata": {},
   "outputs": [],
   "source": [
    "F = 20\n",
    "b_U_0, b_I_0, p_0, q_0 = initial_parameters(U,I,F)"
   ]
  },
  {
   "cell_type": "code",
   "execution_count": 26,
   "metadata": {},
   "outputs": [],
   "source": [
    "mu = 1.4\n",
    "lambda_p = 0.5"
   ]
  },
  {
   "cell_type": "code",
   "execution_count": 27,
   "metadata": {},
   "outputs": [
    {
     "data": {
      "text/plain": [
       "8.45352821469204"
      ]
     },
     "execution_count": 27,
     "metadata": {},
     "output_type": "execute_result"
    }
   ],
   "source": [
    "F = 20\n",
    "b_U_0, b_I_0, p_0, q_0 = initial_parameters(U,I,F)\n",
    "np.sum(p_0[1:3000]*q_0[1:3000],axis = 1).sum()"
   ]
  },
  {
   "cell_type": "markdown",
   "metadata": {},
   "source": [
    "## Step7 "
   ]
  },
  {
   "cell_type": "markdown",
   "metadata": {},
   "source": [
    "## define learning rate"
   ]
  },
  {
   "cell_type": "code",
   "execution_count": 2,
   "metadata": {},
   "outputs": [],
   "source": [
    "learning_rate = 0.2"
   ]
  },
  {
   "cell_type": "code",
   "execution_count": 492,
   "metadata": {
    "scrolled": true
   },
   "outputs": [
    {
     "data": {
      "image/png": "[encoded data removed]",
      "text/plain": [
       "<Figure size 360x216 with 1 Axes>"
      ]
     },
     "metadata": {},
     "output_type": "display_data"
    }
   ],
   "source": [
    "plt.figure(figsize=(5,3))\n",
    "plt.xlabel('learning rate: $\\gamma$')\n",
    "plt.ylabel('mse')\n",
    "#plt.ylim(0, 1)\n",
    "sns.set()\n",
    "plt.plot([0.01,0.05,0.1,0.2,0.5], mse_list)\n",
    "plt.show()"
   ]
  },
  {
   "cell_type": "markdown",
   "metadata": {},
   "source": [
    "## initial F"
   ]
  },
  {
   "cell_type": "code",
   "execution_count": 469,
   "metadata": {},
   "outputs": [
    {
     "data": {
      "image/png": "[encoded data removed]",
      "text/plain": [
       "<Figure size 720x360 with 1 Axes>"
      ]
     },
     "metadata": {},
     "output_type": "display_data"
    }
   ],
   "source": [
    "import seaborn as sns\n",
    "plt.figure(figsize=(10,5))\n",
    "plt.xlabel('F')\n",
    "plt.ylabel('Raw mse')\n",
    "sns.set()\n",
    "plt.plot(F_list, mse_list)\n",
    "plt.show()"
   ]
  },
  {
   "cell_type": "markdown",
   "metadata": {},
   "source": [
    "## Step 8 test and code running part"
   ]
  },
  {
   "cell_type": "code",
   "execution_count": 32,
   "metadata": {},
   "outputs": [],
   "source": [
    "mu = 1.4\n",
    "lambda_p = 0.01"
   ]
  },
  {
   "cell_type": "code",
   "execution_count": 33,
   "metadata": {},
   "outputs": [
    {
     "data": {
      "text/plain": [
       "1.4068905477726912"
      ]
     },
     "execution_count": 33,
     "metadata": {},
     "output_type": "execute_result"
    }
   ],
   "source": [
    "ratings['Rating'].mean()"
   ]
  },
  {
   "cell_type": "code",
   "execution_count": 34,
   "metadata": {
    "scrolled": false
   },
   "outputs": [],
   "source": [
    "# mse_list = list()\n",
    "# for F in [1,2,4,8,10]:\n",
    "#     print('F = ', F)\n",
    "#     b_U_0, b_I_0, p_0, q_0 = initial_parameters(U,I,F)\n",
    "#     b_U, b_I, p, q = StochasticGradientDescent(b_U_0,b_I_0,p_0,q_0,ratings_train,learning_rate=1e-4,tol=5e-7,max_iter=25,batch_size=300000)\n",
    "#     mse_list.append(MSE(b_U,b_I,p,q,ratings_test))"
   ]
  },
  {
   "cell_type": "code",
   "execution_count": 35,
   "metadata": {},
   "outputs": [],
   "source": [
    "F = 5\n",
    "b_U_0, b_I_0, p_0, q_0 = initial_parameters(U,I,F)"
   ]
  },
  {
   "cell_type": "code",
   "execution_count": 36,
   "metadata": {},
   "outputs": [],
   "source": [
    "# for F in [15,20,30,50]:\n",
    "#     print('F = ', F)\n",
    "#     b_U_0, b_I_0, p_0, q_0 = initial_parameters(U,I,F)\n",
    "#     b_U, b_I, p, q = StochasticGradientDescent(b_U_0,b_I_0,p_0,q_0,ratings_train,learning_rate=1e-4,tol=5e-7,max_iter=25,batch_size=300000)\n",
    "#     mse_list.append(MSE(b_U,b_I,p,q,ratings_test))"
   ]
  },
  {
   "cell_type": "code",
   "execution_count": 37,
   "metadata": {},
   "outputs": [],
   "source": [
    "# mse_list"
   ]
  },
  {
   "cell_type": "code",
   "execution_count": 38,
   "metadata": {},
   "outputs": [],
   "source": [
    "# MSE(b_U_0,b_I_0,p_0,q_0,ratings_test)"
   ]
  },
  {
   "cell_type": "code",
   "execution_count": 92,
   "metadata": {
    "scrolled": true
   },
   "outputs": [
    {
     "name": "stdout",
     "output_type": "stream",
     "text": [
      "0\n"
     ]
    }
   ],
   "source": [
    "test = Loss_NewStochasticGradientDescent(b_U_0,b_I_0,p_0,q_0,ratings_train,learning_rate=.2,tol=5e-7,max_iter=1,batch_size = 100)"
   ]
  },
  {
   "cell_type": "code",
   "execution_count": 88,
   "metadata": {},
   "outputs": [
    {
     "data": {
      "text/plain": [
       "1.4396436686711924"
      ]
     },
     "execution_count": 88,
     "metadata": {},
     "output_type": "execute_result"
    }
   ],
   "source": [
    "Loss(b_U_0,b_I_0,p_0,q_0,ratings_train)"
   ]
  },
  {
   "cell_type": "code",
   "execution_count": 80,
   "metadata": {},
   "outputs": [
    {
     "data": {
      "text/plain": [
       "11.933400449617627"
      ]
     },
     "execution_count": 80,
     "metadata": {},
     "output_type": "execute_result"
    }
   ],
   "source": [
    "Loss(b_U_0, b_I_0, p_0, q_0,ratings_train.iloc[1:100000])"
   ]
  },
  {
   "cell_type": "code",
   "execution_count": 166,
   "metadata": {
    "scrolled": true
   },
   "outputs": [
    {
     "name": "stdout",
     "output_type": "stream",
     "text": [
      "0\n",
      "1\n",
      "2\n",
      "3\n",
      "4\n"
     ]
    }
   ],
   "source": [
    "b_U, b_I, p, q = NewStochasticGradientDescent(b_U,b_I,p,q,ratings_train,learning_rate=20,tol=5e-7,max_iter=5,batch_size=50000)"
   ]
  },
  {
   "cell_type": "markdown",
   "metadata": {},
   "source": [
    "## model performance"
   ]
  },
  {
   "cell_type": "code",
   "execution_count": 135,
   "metadata": {},
   "outputs": [
    {
     "data": {
      "image/png": "[encoded data removed]",
      "text/plain": [
       "<Figure size 720x720 with 1 Axes>"
      ]
     },
     "metadata": {},
     "output_type": "display_data"
    }
   ],
   "source": [
    "import seaborn as sns\n",
    "plt.figure(figsize=(10,10))\n",
    "plt.xlabel('Iteration')\n",
    "plt.ylabel('Mse')\n",
    "sns.set()\n",
    "for i in range(1,len(mse_list)):\n",
    "    plt.plot(mse_list[i], label = f'F = {[1,5,10,20,50,100][i]}')\n",
    "plt.legend()\n",
    "plt.show()"
   ]
  },
  {
   "cell_type": "code",
   "execution_count": 450,
   "metadata": {},
   "outputs": [],
   "source": [
    "F_list = [F for F in range(50)]\n",
    "mse_list = []\n",
    "mu = 1.4\n",
    "for number in F_list:\n",
    "    F = number\n",
    "    b_U_0, b_I_0, p_0, q_0 = initial_parameters(U,I,F)\n",
    "    mse_list.append(MSE(b_U_0,b_I_0,p_0,q_0,ratings_train))"
   ]
  },
  {
   "cell_type": "code",
   "execution_count": 448,
   "metadata": {},
   "outputs": [],
   "source": [
    "import matplotlib.pyplot as plt"
   ]
  },
  {
   "cell_type": "code",
   "execution_count": 157,
   "metadata": {},
   "outputs": [
    {
     "data": {
      "text/plain": [
       "1.4068905477726912"
      ]
     },
     "execution_count": 157,
     "metadata": {},
     "output_type": "execute_result"
    }
   ],
   "source": [
    "ratings['Rating'].mean()"
   ]
  },
  {
   "cell_type": "code",
   "execution_count": null,
   "metadata": {},
   "outputs": [],
   "source": []
  }
 ],
 "metadata": {
  "kernelspec": {
   "display_name": "Python 3",
   "language": "python",
   "name": "python3"
  },
  "language_info": {
   "codemirror_mode": {
    "name": "ipython",
    "version": 3
   },
   "file_extension": ".py",
   "mimetype": "text/x-python",
   "name": "python",
   "nbconvert_exporter": "python",
   "pygments_lexer": "ipython3",
   "version": "3.6.6"
  }
 },
 "nbformat": 4,
 "nbformat_minor": 2
}
