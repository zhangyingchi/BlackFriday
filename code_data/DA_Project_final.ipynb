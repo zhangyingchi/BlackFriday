{
 "cells": [
  {
   "cell_type": "markdown",
   "metadata": {},
   "source": [
    "# Import Data"
   ]
  },
  {
   "cell_type": "code",
   "execution_count": 5,
   "metadata": {},
   "outputs": [],
   "source": [
    "import pandas as pd\n",
    "import numpy as np\n",
    "datafile = 'BlackFriday.csv'\n",
    "df = pd.read_csv(datafile)"
   ]
  },
  {
   "cell_type": "code",
   "execution_count": 6,
   "metadata": {},
   "outputs": [],
   "source": [
    "def clean(df):\n",
    "    df=df.fillna(0)\n",
    "    df['Gender']=np.where(df['Gender'] == 'F',0,1)\n",
    "    df['Age'] = np.where(df['Age']=='0-17',0,np.where(df['Age']=='18-25',1,np.where(df['Age']=='26-35',2,np.where(df['Age']=='36-45',3,np.where(df['Age']=='46-50',4,np.where(df['Age']=='51-55',5,6))))))\n",
    "    df['City_Category'] = np.where(df['City_Category']=='A',0,np.where(df['City_Category']=='B',1,2))\n",
    "    df['Stay_In_Current_City_Years'] = np.where(df['Stay_In_Current_City_Years'] == '4+',4,np.where(df['Stay_In_Current_City_Years'] =='3',3,np.where(df['Stay_In_Current_City_Years'] =='2',2,np.where(df['Stay_In_Current_City_Years'] =='1',1,0))))\n",
    "    return df\n"
   ]
  },
  {
   "cell_type": "code",
   "execution_count": 7,
   "metadata": {},
   "outputs": [],
   "source": [
    "df = clean(df)\n",
    "df = pd.get_dummies(df,columns=['Age','City_Category'])"
   ]
  },
  {
   "cell_type": "code",
   "execution_count": 8,
   "metadata": {},
   "outputs": [
    {
     "data": {
      "text/html": [
       "<div>\n",
       "<style scoped>\n",
       "    .dataframe tbody tr th:only-of-type {\n",
       "        vertical-align: middle;\n",
       "    }\n",
       "\n",
       "    .dataframe tbody tr th {\n",
       "        vertical-align: top;\n",
       "    }\n",
       "\n",
       "    .dataframe thead th {\n",
       "        text-align: right;\n",
       "    }\n",
       "</style>\n",
       "<table border=\"1\" class=\"dataframe\">\n",
       "  <thead>\n",
       "    <tr style=\"text-align: right;\">\n",
       "      <th></th>\n",
       "      <th>Gender</th>\n",
       "      <th>Occupation</th>\n",
       "      <th>Stay_In_Current_City_Years</th>\n",
       "      <th>Marital_Status</th>\n",
       "      <th>Age_0</th>\n",
       "      <th>Age_1</th>\n",
       "      <th>Age_2</th>\n",
       "      <th>Age_3</th>\n",
       "      <th>Age_4</th>\n",
       "      <th>Age_5</th>\n",
       "      <th>Age_6</th>\n",
       "      <th>City_Category_0</th>\n",
       "      <th>City_Category_1</th>\n",
       "      <th>City_Category_2</th>\n",
       "    </tr>\n",
       "    <tr>\n",
       "      <th>User_ID</th>\n",
       "      <th></th>\n",
       "      <th></th>\n",
       "      <th></th>\n",
       "      <th></th>\n",
       "      <th></th>\n",
       "      <th></th>\n",
       "      <th></th>\n",
       "      <th></th>\n",
       "      <th></th>\n",
       "      <th></th>\n",
       "      <th></th>\n",
       "      <th></th>\n",
       "      <th></th>\n",
       "      <th></th>\n",
       "    </tr>\n",
       "  </thead>\n",
       "  <tbody>\n",
       "    <tr>\n",
       "      <th>1000001</th>\n",
       "      <td>0</td>\n",
       "      <td>10</td>\n",
       "      <td>2</td>\n",
       "      <td>0</td>\n",
       "      <td>1</td>\n",
       "      <td>0</td>\n",
       "      <td>0</td>\n",
       "      <td>0</td>\n",
       "      <td>0</td>\n",
       "      <td>0</td>\n",
       "      <td>0</td>\n",
       "      <td>1</td>\n",
       "      <td>0</td>\n",
       "      <td>0</td>\n",
       "    </tr>\n",
       "    <tr>\n",
       "      <th>1000002</th>\n",
       "      <td>1</td>\n",
       "      <td>16</td>\n",
       "      <td>4</td>\n",
       "      <td>0</td>\n",
       "      <td>0</td>\n",
       "      <td>0</td>\n",
       "      <td>0</td>\n",
       "      <td>0</td>\n",
       "      <td>0</td>\n",
       "      <td>0</td>\n",
       "      <td>1</td>\n",
       "      <td>0</td>\n",
       "      <td>0</td>\n",
       "      <td>1</td>\n",
       "    </tr>\n",
       "    <tr>\n",
       "      <th>1000003</th>\n",
       "      <td>1</td>\n",
       "      <td>15</td>\n",
       "      <td>3</td>\n",
       "      <td>0</td>\n",
       "      <td>0</td>\n",
       "      <td>0</td>\n",
       "      <td>1</td>\n",
       "      <td>0</td>\n",
       "      <td>0</td>\n",
       "      <td>0</td>\n",
       "      <td>0</td>\n",
       "      <td>1</td>\n",
       "      <td>0</td>\n",
       "      <td>0</td>\n",
       "    </tr>\n",
       "    <tr>\n",
       "      <th>1000004</th>\n",
       "      <td>1</td>\n",
       "      <td>7</td>\n",
       "      <td>2</td>\n",
       "      <td>1</td>\n",
       "      <td>0</td>\n",
       "      <td>0</td>\n",
       "      <td>0</td>\n",
       "      <td>0</td>\n",
       "      <td>1</td>\n",
       "      <td>0</td>\n",
       "      <td>0</td>\n",
       "      <td>0</td>\n",
       "      <td>1</td>\n",
       "      <td>0</td>\n",
       "    </tr>\n",
       "    <tr>\n",
       "      <th>1000005</th>\n",
       "      <td>1</td>\n",
       "      <td>20</td>\n",
       "      <td>1</td>\n",
       "      <td>1</td>\n",
       "      <td>0</td>\n",
       "      <td>0</td>\n",
       "      <td>1</td>\n",
       "      <td>0</td>\n",
       "      <td>0</td>\n",
       "      <td>0</td>\n",
       "      <td>0</td>\n",
       "      <td>1</td>\n",
       "      <td>0</td>\n",
       "      <td>0</td>\n",
       "    </tr>\n",
       "  </tbody>\n",
       "</table>\n",
       "</div>"
      ],
      "text/plain": [
       "         Gender  Occupation  Stay_In_Current_City_Years  Marital_Status  \\\n",
       "User_ID                                                                   \n",
       "1000001       0          10                           2               0   \n",
       "1000002       1          16                           4               0   \n",
       "1000003       1          15                           3               0   \n",
       "1000004       1           7                           2               1   \n",
       "1000005       1          20                           1               1   \n",
       "\n",
       "         Age_0  Age_1  Age_2  Age_3  Age_4  Age_5  Age_6  City_Category_0  \\\n",
       "User_ID                                                                     \n",
       "1000001      1      0      0      0      0      0      0                1   \n",
       "1000002      0      0      0      0      0      0      1                0   \n",
       "1000003      0      0      1      0      0      0      0                1   \n",
       "1000004      0      0      0      0      1      0      0                0   \n",
       "1000005      0      0      1      0      0      0      0                1   \n",
       "\n",
       "         City_Category_1  City_Category_2  \n",
       "User_ID                                    \n",
       "1000001                0                0  \n",
       "1000002                0                1  \n",
       "1000003                0                0  \n",
       "1000004                1                0  \n",
       "1000005                0                0  "
      ]
     },
     "execution_count": 8,
     "metadata": {},
     "output_type": "execute_result"
    }
   ],
   "source": [
    "y_df = df[['User_ID','Purchase']].groupby('User_ID').sum()\n",
    "y_df=y_df.apply(lambda x: x/10000)\n",
    "x_df = df.iloc[0:,[0,2,3,4,5,10,11,12,13,14,15,16,17,18,19]].groupby('User_ID').mean()\n",
    "x_df.head()"
   ]
  },
  {
   "cell_type": "markdown",
   "metadata": {},
   "source": [
    "# Data Prepocessing\n",
    "y is not follow the normal distribution \n",
    "\n",
    "we can not normalize y, instead,  we use the minmax method "
   ]
  },
  {
   "cell_type": "code",
   "execution_count": 12,
   "metadata": {},
   "outputs": [
    {
     "data": {
      "text/plain": [
       "(array([4.405e+03, 9.590e+02, 3.220e+02, 1.340e+02, 4.900e+01, 1.300e+01,\n",
       "        6.000e+00, 1.000e+00, 1.000e+00, 1.000e+00]),\n",
       " array([   4.4108 ,  109.33755,  214.2643 ,  319.19105,  424.1178 ,\n",
       "         529.04455,  633.9713 ,  738.89805,  843.8248 ,  948.75155,\n",
       "        1053.6783 ]),\n",
       " <a list of 10 Patch objects>)"
      ]
     },
     "execution_count": 12,
     "metadata": {},
     "output_type": "execute_result"
    },
    {
     "data": {
      "image/png": "[encoded data removed]",
      "text/plain": [
       "<Figure size 432x288 with 1 Axes>"
      ]
     },
     "metadata": {
      "needs_background": "light"
     },
     "output_type": "display_data"
    }
   ],
   "source": [
    "import matplotlib.pyplot as plt\n",
    "import numpy as np  \n",
    "plt.hist(np.array(y_df),10)"
   ]
  },
  {
   "cell_type": "code",
   "execution_count": 13,
   "metadata": {},
   "outputs": [],
   "source": [
    "from sklearn import preprocessing\n",
    "from sklearn.preprocessing import MinMaxScaler\n",
    "mm = MinMaxScaler()\n",
    "mm_data = mm.fit_transform(y_df)\n",
    "origin_data = mm.inverse_transform(mm_data)"
   ]
  },
  {
   "cell_type": "code",
   "execution_count": 14,
   "metadata": {},
   "outputs": [
    {
     "data": {
      "text/plain": [
       "Purchase    85.175155\n",
       "dtype: float64"
      ]
     },
     "execution_count": 14,
     "metadata": {},
     "output_type": "execute_result"
    }
   ],
   "source": [
    "y_df.mean()"
   ]
  },
  {
   "cell_type": "markdown",
   "metadata": {},
   "source": [
    "# Linear Regression"
   ]
  },
  {
   "cell_type": "code",
   "execution_count": 15,
   "metadata": {},
   "outputs": [
    {
     "name": "stdout",
     "output_type": "stream",
     "text": [
      "[[ 2.41351778 -0.13698423  0.55103885  2.63371427  6.28232812 -1.97077606\n",
      "   1.99052039  0.57163094 -6.89090201 -1.14435539  1.161554    1.49521678\n",
      "  -1.16457258 -0.3306442 ]]\n"
     ]
    },
    {
     "name": "stderr",
     "output_type": "stream",
     "text": [
      "/anaconda3/lib/python3.6/site-packages/sklearn/linear_model/base.py:485: RuntimeWarning: internal gelsd driver lwork query error, required iwork dimension not returned. This is likely the result of LAPACK bug 0038, fixed in LAPACK 3.2.2 (released July 21, 2010). Falling back to 'gelss' driver.\n",
      "  linalg.lstsq(X, y)\n"
     ]
    },
    {
     "data": {
      "text/html": [
       "<div>\n",
       "<style scoped>\n",
       "    .dataframe tbody tr th:only-of-type {\n",
       "        vertical-align: middle;\n",
       "    }\n",
       "\n",
       "    .dataframe tbody tr th {\n",
       "        vertical-align: top;\n",
       "    }\n",
       "\n",
       "    .dataframe thead th {\n",
       "        text-align: right;\n",
       "    }\n",
       "</style>\n",
       "<table border=\"1\" class=\"dataframe\">\n",
       "  <thead>\n",
       "    <tr style=\"text-align: right;\">\n",
       "      <th></th>\n",
       "      <th>0</th>\n",
       "    </tr>\n",
       "  </thead>\n",
       "  <tbody>\n",
       "    <tr>\n",
       "      <th>Gender</th>\n",
       "      <td>2.413518</td>\n",
       "    </tr>\n",
       "    <tr>\n",
       "      <th>Occupation</th>\n",
       "      <td>-0.136984</td>\n",
       "    </tr>\n",
       "    <tr>\n",
       "      <th>Marital_Status</th>\n",
       "      <td>0.551039</td>\n",
       "    </tr>\n",
       "    <tr>\n",
       "      <th>Stay_In_Current_City_Years</th>\n",
       "      <td>2.633714</td>\n",
       "    </tr>\n",
       "    <tr>\n",
       "      <th>Age_0</th>\n",
       "      <td>6.282328</td>\n",
       "    </tr>\n",
       "    <tr>\n",
       "      <th>Age_1</th>\n",
       "      <td>-1.970776</td>\n",
       "    </tr>\n",
       "    <tr>\n",
       "      <th>Age_2</th>\n",
       "      <td>1.990520</td>\n",
       "    </tr>\n",
       "    <tr>\n",
       "      <th>Age_3</th>\n",
       "      <td>0.571631</td>\n",
       "    </tr>\n",
       "    <tr>\n",
       "      <th>Age_4</th>\n",
       "      <td>-6.890902</td>\n",
       "    </tr>\n",
       "    <tr>\n",
       "      <th>Age_5</th>\n",
       "      <td>-1.144355</td>\n",
       "    </tr>\n",
       "    <tr>\n",
       "      <th>Age_6</th>\n",
       "      <td>1.161554</td>\n",
       "    </tr>\n",
       "    <tr>\n",
       "      <th>City_Category_0</th>\n",
       "      <td>1.495217</td>\n",
       "    </tr>\n",
       "    <tr>\n",
       "      <th>City_Category_1</th>\n",
       "      <td>-1.164573</td>\n",
       "    </tr>\n",
       "    <tr>\n",
       "      <th>City_Category_2</th>\n",
       "      <td>-0.330644</td>\n",
       "    </tr>\n",
       "  </tbody>\n",
       "</table>\n",
       "</div>"
      ],
      "text/plain": [
       "                                   0\n",
       "Gender                      2.413518\n",
       "Occupation                 -0.136984\n",
       "Marital_Status              0.551039\n",
       "Stay_In_Current_City_Years  2.633714\n",
       "Age_0                       6.282328\n",
       "Age_1                      -1.970776\n",
       "Age_2                       1.990520\n",
       "Age_3                       0.571631\n",
       "Age_4                      -6.890902\n",
       "Age_5                      -1.144355\n",
       "Age_6                       1.161554\n",
       "City_Category_0             1.495217\n",
       "City_Category_1            -1.164573\n",
       "City_Category_2            -0.330644"
      ]
     },
     "execution_count": 15,
     "metadata": {},
     "output_type": "execute_result"
    }
   ],
   "source": [
    "import matplotlib.pyplot as plt\n",
    "from sklearn import linear_model\n",
    "from sklearn.model_selection import train_test_split\n",
    "x_train,x_test = train_test_split(x_df, test_size = 0.3)\n",
    "y_train,y_test = train_test_split(y_df, test_size = 0.3)\n",
    "x_train\n",
    "y_train\n",
    "\n",
    "\n",
    "model = linear_model.LinearRegression()\n",
    "model.fit(x_train,y_train)\n",
    "\n",
    "testing_predictions  = model.predict(x_test)\n",
    "print(model.coef_)\n",
    "name = ['Gender','Occupation','Marital_Status','Stay_In_Current_City_Years','Age_0','Age_1','Age_2','Age_3','Age_4','Age_5','Age_6','City_Category_0','City_Category_1','City_Category_2']\n",
    "di = pd.DataFrame(model.coef_,columns= name)\n",
    "di.transpose()"
   ]
  },
  {
   "cell_type": "code",
   "execution_count": null,
   "metadata": {},
   "outputs": [],
   "source": []
  }
 ],
 "metadata": {
  "kernelspec": {
   "display_name": "Python 3",
   "language": "python",
   "name": "python3"
  },
  "language_info": {
   "codemirror_mode": {
    "name": "ipython",
    "version": 3
   },
   "file_extension": ".py",
   "mimetype": "text/x-python",
   "name": "python",
   "nbconvert_exporter": "python",
   "pygments_lexer": "ipython3",
   "version": "3.6.6"
  }
 },
 "nbformat": 4,
 "nbformat_minor": 2
}
